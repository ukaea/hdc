{
 "cells": [
  {
   "cell_type": "markdown",
   "metadata": {},
   "source": [
    "# Calling Fortran via HDC\n",
    "\n",
    "*Important*: ctypes must be able to find `libhdc_fortran_module.so`. The easiest way is to include the path in `LD_LIBRARY_PATH`. If running from the `examples` dir and if HDC is installed into `../install`, this can be used:\n",
    "\n",
    "```bash\n",
    "LD_LIBRARY_PATH=$PWD/../install/lib/ jupyter notebook\n",
    "```\n"
   ]
  },
  {
   "cell_type": "code",
   "execution_count": 1,
   "metadata": {},
   "outputs": [],
   "source": [
    "import numpy as np"
   ]
  },
  {
   "cell_type": "code",
   "execution_count": 2,
   "metadata": {},
   "outputs": [],
   "source": [
    "# import the base HDC class\n",
    "from pyhdc import HDC"
   ]
  },
  {
   "cell_type": "code",
   "execution_count": 3,
   "metadata": {},
   "outputs": [],
   "source": [
    "# import fortran function wrapper\n",
    "from hdc_fortran_module import test_cpos"
   ]
  },
  {
   "cell_type": "markdown",
   "metadata": {},
   "source": [
    "First, we'll construct the input \"equilibrium\" container."
   ]
  },
  {
   "cell_type": "code",
   "execution_count": 4,
   "metadata": {},
   "outputs": [],
   "source": [
    "equilibrium = HDC()\n",
    "equilibrium['profiles_1d/psi'] = np.linspace(0, 1, 5)\n",
    "equilibrium['time'] = np.array(2.34)"
   ]
  },
  {
   "cell_type": "markdown",
   "metadata": {},
   "source": [
    "Display the equilibrium using the dump method."
   ]
  },
  {
   "cell_type": "code",
   "execution_count": 5,
   "metadata": {},
   "outputs": [
    {
     "name": "stdout",
     "output_type": "stream",
     "text": [
      "{\"profiles_1d\":{\"psi\":[0.0,0.25,0.5,0.75,1.0]},\"time\":2.3399999999999999}\n",
      "\n"
     ]
    }
   ],
   "source": [
    "print(equilibrium.dumps())"
   ]
  },
  {
   "cell_type": "markdown",
   "metadata": {},
   "source": [
    "Print nodes using `numpy.asarray`"
   ]
  },
  {
   "cell_type": "code",
   "execution_count": 6,
   "metadata": {},
   "outputs": [
    {
     "name": "stdout",
     "output_type": "stream",
     "text": [
      "equilibrium['time'] -> 2.34\n",
      "equilibrium['profiles_1d/psi'] -> [0.   0.25 0.5  0.75 1.  ]\n"
     ]
    }
   ],
   "source": [
    "print(\"equilibrium['time'] -> {}\".format(np.asarray(equilibrium['time'])))\n",
    "print(\"equilibrium['profiles_1d/psi'] -> {}\".format(np.asarray(equilibrium['profiles_1d/psi'])))"
   ]
  },
  {
   "cell_type": "markdown",
   "metadata": {},
   "source": [
    "Call a Fortran function that inputs and outputs a container. The interface function is as simple as this:\n",
    "\n",
    "```python\n",
    "def test_cpos(equilibriumin):\n",
    "    \n",
    "    # load the Fortran library\n",
    "    fm = ctypes.cdll.LoadLibrary('libhdc_fortran_module.so')\n",
    "\n",
    "    # in the Python / C wrapper, the output tree must be constructed\n",
    "    tree = HDC()\n",
    "    # HDC is converted implicetely to C/Fortran void pointer in a ctypes call\n",
    "    fm.test_cpos_f2c(equilibriumin, tree)\n",
    "\n",
    "    return tree\n",
    "```\n",
    "\n",
    "The Fortran subroutine interface looks like this:\n",
    "\n",
    "```Fortran\n",
    "subroutine test_cpos_f2c(equilibriumin, tree_out) bind(c, name=\"test_cpos_f2c\")\n",
    "    use hdc_fortran\n",
    "    use iso_c_binding\n",
    "\n",
    "    implicit none\n",
    "\n",
    "    type(hdc_t), value :: equilibriumin, tree_out\n",
    "    type(hdc_t) :: distsourceout\n",
    "    \n",
    "    ! process the data and put outputs into tree_out\n",
    "\n",
    "end subroutine\n",
    "```"
   ]
  },
  {
   "cell_type": "code",
   "execution_count": 7,
   "metadata": {},
   "outputs": [],
   "source": [
    "tree_out = test_cpos(equilibrium)"
   ]
  },
  {
   "cell_type": "markdown",
   "metadata": {},
   "source": [
    "Visually check the results"
   ]
  },
  {
   "cell_type": "code",
   "execution_count": 8,
   "metadata": {},
   "outputs": [
    {
     "name": "stdout",
     "output_type": "stream",
     "text": [
      "{'distsourceout': {'profiles_1d': {'psi': array([0.  , 0.25, 0.5 , 0.75, 1.  ])}, 'time': 2.34, 'source': {'profiles_1d': {'psi': array([-0.  , -0.75, -1.5 , -2.25, -3.  ])}}, 'codeparam': {'codename': 'equ2dist', 'codeversion': '1.0', 'parameters': 'my_code_specific_parameters', 'output_diag': 'Made in Python', 'output_flag': 0}}}\n"
     ]
    }
   ],
   "source": [
    "print(tree_out.to_python())"
   ]
  },
  {
   "cell_type": "markdown",
   "metadata": {},
   "source": [
    "Check the (side) effect of the fortran function:"
   ]
  },
  {
   "cell_type": "code",
   "execution_count": 9,
   "metadata": {},
   "outputs": [],
   "source": [
    "assert np.all(np.asarray(tree_out['distsourceout/source/profiles_1d/psi'] == \n",
    "              -3 * np.asarray(equilibrium['profiles_1d/psi'])))"
   ]
  },
  {
   "cell_type": "code",
   "execution_count": null,
   "metadata": {
    "collapsed": true
   },
   "outputs": [],
   "source": []
  }
 ],
 "metadata": {
  "kernelspec": {
   "display_name": "Python 3",
   "language": "python",
   "name": "python3"
  },
  "language_info": {
   "codemirror_mode": {
    "name": "ipython",
    "version": 3
   },
   "file_extension": ".py",
   "mimetype": "text/x-python",
   "name": "python",
   "nbconvert_exporter": "python",
   "pygments_lexer": "ipython3",
   "version": "3.6.5"
  }
 },
 "nbformat": 4,
 "nbformat_minor": 1
}
